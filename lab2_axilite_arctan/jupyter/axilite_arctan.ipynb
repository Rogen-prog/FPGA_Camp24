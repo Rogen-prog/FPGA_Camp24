{
 "cells": [
  {
   "cell_type": "code",
   "execution_count": 2,
   "metadata": {},
   "outputs": [
    {
     "name": "stdout",
     "output_type": "stream",
     "text": [
      "axilite_arctan.bit  axilite_arctan.hwh\taxilite_arctan.ipynb\r\n"
     ]
    }
   ],
   "source": [
    "!dir axilite_arctan.*"
   ]
  },
  {
   "cell_type": "code",
   "execution_count": 3,
   "metadata": {},
   "outputs": [
    {
     "data": {
      "application/javascript": [
       "\n",
       "try {\n",
       "require(['notebook/js/codecell'], function(codecell) {\n",
       "  codecell.CodeCell.options_default.highlight_modes[\n",
       "      'magic_text/x-csrc'] = {'reg':[/^%%microblaze/]};\n",
       "  Jupyter.notebook.events.one('kernel_ready.Kernel', function(){\n",
       "      Jupyter.notebook.get_cells().map(function(cell){\n",
       "          if (cell.cell_type == 'code'){ cell.auto_highlight(); } }) ;\n",
       "  });\n",
       "});\n",
       "} catch (e) {};\n"
      ]
     },
     "metadata": {},
     "output_type": "display_data"
    }
   ],
   "source": [
    "from pynq import Overlay, allocate\n",
    "\n",
    "overlay = Overlay(\"./axilite_arctan.bit\")"
   ]
  },
  {
   "cell_type": "code",
   "execution_count": 4,
   "metadata": {},
   "outputs": [
    {
     "data": {
      "application/json": {
       "axilite_arctan_0": {
        "addr_range": 65536,
        "device": "<pynq.pl_server.device.XlnkDevice object at 0xb0284230>",
        "driver": "<class 'pynq.overlay.DefaultIP'>",
        "fullpath": "axilite_arctan_0",
        "gpio": {},
        "interrupts": {},
        "mem_id": "S00_AXI",
        "parameters": {
         "C_S00_AXI_ADDR_WIDTH": "4",
         "C_S00_AXI_BASEADDR": "0x43C00000",
         "C_S00_AXI_DATA_WIDTH": "32",
         "C_S00_AXI_HIGHADDR": "0x43C0FFFF",
         "Component_Name": "system_axilite_arctan_0_0",
         "EDK_IPTYPE": "PERIPHERAL"
        },
        "phys_addr": 1136656384,
        "registers": {},
        "state": null,
        "type": "xilinx.com:user:axilite_arctan:1.0"
       }
      },
      "text/plain": [
       "{'axilite_arctan_0': {'addr_range': 65536,\n",
       "  'device': <pynq.pl_server.device.XlnkDevice at 0xb0284230>,\n",
       "  'driver': pynq.overlay.DefaultIP,\n",
       "  'fullpath': 'axilite_arctan_0',\n",
       "  'gpio': {},\n",
       "  'interrupts': {},\n",
       "  'mem_id': 'S00_AXI',\n",
       "  'parameters': {'C_S00_AXI_ADDR_WIDTH': '4',\n",
       "   'C_S00_AXI_BASEADDR': '0x43C00000',\n",
       "   'C_S00_AXI_DATA_WIDTH': '32',\n",
       "   'C_S00_AXI_HIGHADDR': '0x43C0FFFF',\n",
       "   'Component_Name': 'system_axilite_arctan_0_0',\n",
       "   'EDK_IPTYPE': 'PERIPHERAL'},\n",
       "  'phys_addr': 1136656384,\n",
       "  'registers': {},\n",
       "  'state': None,\n",
       "  'type': 'xilinx.com:user:axilite_arctan:1.0'}}"
      ]
     },
     "execution_count": 4,
     "metadata": {
      "application/json": {
       "expanded": false,
       "root": "ip_dict"
      }
     },
     "output_type": "execute_result"
    }
   ],
   "source": [
    "overlay.ip_dict"
   ]
  },
  {
   "cell_type": "code",
   "execution_count": 4,
   "metadata": {},
   "outputs": [],
   "source": [
    "axilite = overlay.axilite_arctan_0"
   ]
  },
  {
   "cell_type": "code",
   "execution_count": 5,
   "metadata": {},
   "outputs": [
    {
     "name": "stdout",
     "output_type": "stream",
     "text": [
      "arctan(1) = 45\n"
     ]
    }
   ],
   "source": [
    "input_1 = 100\n",
    "input_2 = 100\n",
    "\n",
    "axilite.write(0x0, input_1)\n",
    "axilite.write(0x4, input_2)\n",
    "res = axilite.read(0xc)\n",
    "\n",
    "print(\"arctan({}) = {}\".format(int(input_2/input_1), res))"
   ]
  },
  {
   "cell_type": "code",
   "execution_count": 6,
   "metadata": {},
   "outputs": [
    {
     "data": {
      "text/plain": [
       "[<matplotlib.lines.Line2D at 0xae42dcd0>]"
      ]
     },
     "execution_count": 6,
     "metadata": {},
     "output_type": "execute_result"
    }
   ],
   "source": [
    "import numpy as np\n",
    "from matplotlib import pyplot as plt\n",
    "\n",
    "input_1 = 100\n",
    "input_2 = np.arange(1,500,1)\n",
    "x = input_2/input_1\n",
    "res = [0] * 499\n",
    "\n",
    "for i in range(499):\n",
    "    axilite.write(0x0, input_1)\n",
    "    input_value = int(input_2[i])\n",
    "    axilite.write(0x4, input_value)\n",
    "    res[i] = axilite.read(0xc)\n",
    "    \n",
    "plt.figure()\n",
    "plt.plot(x,res)\n"
   ]
  },
  {
   "cell_type": "code",
   "execution_count": 7,
   "metadata": {},
   "outputs": [
    {
     "name": "stdout",
     "output_type": "stream",
     "text": [
      "[0, 0, 1, 2, 2, 3, 4, 4, 4, 5, 6, 7, 7, 7, 7, 8, 9, 10, 11, 11, 11, 12, 13, 14, 14, 15, 15, 15, 16, 17, 17, 18, 18, 18, 18, 19, 19, 20, 21, 21, 21, 22, 22, 24, 24, 25, 25, 25, 25, 26, 26, 27, 28, 28, 28, 29, 29, 30, 30, 30, 30, 31, 32, 32, 33, 34, 34, 34, 34, 35, 35, 36, 36, 36, 36, 37, 37, 37, 38, 39, 39, 39, 39, 39, 40, 41, 41, 41, 42, 42, 42, 43, 43, 43, 43, 44, 44, 44, 44, 45, 45, 45, 45, 45, 46, 46, 46, 46, 46, 46, 48, 48, 48, 48, 48, 49, 50, 49, 49, 49, 50, 50, 50, 51, 51, 51, 51, 52, 52, 52, 52, 52, 53, 53, 53, 53, 53, 53, 54, 54, 54, 54, 55, 54, 55, 55, 55, 56, 56, 56, 56, 57, 57, 57, 57, 57, 57, 57, 57, 57, 57, 57, 58, 58, 58, 58, 59, 59, 59, 59, 59, 59, 60, 60, 60, 60, 60, 60, 61, 61, 61, 61, 61, 61, 61, 61, 61, 61, 62, 62, 62, 62, 62, 62, 62, 62, 63, 62, 63, 63, 63, 64, 64, 64, 64, 64, 64, 64, 64, 64, 64, 64, 65, 65, 65, 65, 65, 65, 65, 65, 65, 65, 65, 65, 65, 66, 66, 66, 66, 66, 66, 66, 66, 66, 67, 67, 67, 67, 67, 67, 67, 67, 68, 68, 68, 68, 68, 68, 68, 68, 68, 68, 68, 68, 68, 68, 68, 69, 69, 69, 69, 69, 69, 69, 69, 69, 70, 70, 70, 70, 70, 70, 70, 70, 70, 70, 70, 70, 70, 70, 70, 70, 70, 70, 70, 70, 70, 70, 71, 71, 71, 71, 71, 71, 71, 71, 71, 71, 71, 71, 71, 71, 71, 71, 71, 71, 71, 71, 71, 71, 71, 71, 72, 72, 72, 72, 72, 72, 72, 72, 72, 72, 72, 72, 72, 72, 72, 73, 73, 73, 73, 73, 73, 73, 73, 73, 73, 73, 73, 73, 73, 73, 73, 73, 73, 73, 74, 74, 74, 74, 74, 74, 74, 74, 74, 74, 74, 74, 74, 74, 74, 74, 74, 74, 74, 74, 74, 74, 74, 74, 74, 74, 74, 74, 74, 74, 75, 75, 75, 75, 75, 75, 75, 75, 75, 75, 75, 75, 75, 75, 75, 75, 75, 75, 75, 75, 75, 75, 75, 75, 76, 76, 76, 76, 76, 76, 76, 76, 76, 76, 76, 76, 76, 76, 76, 76, 76, 76, 76, 76, 76, 76, 76, 76, 76, 76, 76, 76, 76, 76, 76, 76, 77, 76, 77, 76, 77, 77, 77, 77, 77, 77, 77, 77, 77, 77, 77, 77, 77, 77, 77, 77, 77, 77, 77, 77, 77, 77, 77, 77, 77, 77, 77, 77, 78, 78, 78, 78, 78, 78, 78, 78, 78, 78, 78, 78, 78, 78, 78, 78, 78, 78, 78, 78, 78, 78, 78, 78, 78, 78, 78, 78, 78, 78, 78, 78, 78, 78, 78]\n"
     ]
    }
   ],
   "source": [
    "print(\"{}\".format(res))"
   ]
  },
  {
   "cell_type": "code",
   "execution_count": null,
   "metadata": {},
   "outputs": [],
   "source": []
  },
  {
   "cell_type": "code",
   "execution_count": null,
   "metadata": {},
   "outputs": [],
   "source": []
  }
 ],
 "metadata": {
  "kernelspec": {
   "display_name": "Python 3",
   "language": "python",
   "name": "python3"
  },
  "language_info": {
   "codemirror_mode": {
    "name": "ipython",
    "version": 3
   },
   "file_extension": ".py",
   "mimetype": "text/x-python",
   "name": "python",
   "nbconvert_exporter": "python",
   "pygments_lexer": "ipython3",
   "version": "3.6.5"
  }
 },
 "nbformat": 4,
 "nbformat_minor": 2
}
